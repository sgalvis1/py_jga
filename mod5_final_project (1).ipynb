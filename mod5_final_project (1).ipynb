{
 "cells": [
  {
   "cell_type": "markdown",
   "metadata": {},
   "source": [
    "<center>\n",
    "    <img src=\"https://cf-courses-data.s3.us.cloud-object-storage.appdomain.cloud/IBMDeveloperSkillsNetwork-DB0201EN-SkillsNetwork/labs/FinalModule_Coursera_V5/images/SN_web_lightmode.png\" width=\"300\" alt=\"cognitiveclass.ai logo\">\n",
    "</center>\n",
    "\n",
    "<h1 align=center><font size = 5>Assignment: Notebook for Graded Assessment</font></h1>\n"
   ]
  },
  {
   "cell_type": "markdown",
   "metadata": {},
   "source": [
    "# Introduction\n",
    "\n",
    "Using this Python notebook you will:\n",
    "\n",
    "1.  Understand three Chicago datasets\n",
    "2.  Load the three datasets into three tables in a SQLIte database\n",
    "3.  Execute SQL queries to answer assignment questions\n"
   ]
  },
  {
   "cell_type": "markdown",
   "metadata": {},
   "source": [
    "## Understand the datasets\n",
    "\n",
    "To complete the assignment problems in this notebook you will be using three datasets that are available on the city of Chicago's Data Portal:\n",
    "\n",
    "1.  <a href=\"https://data.cityofchicago.org/Health-Human-Services/Census-Data-Selected-socioeconomic-indicators-in-C/kn9c-c2s2?utm_medium=Exinfluencer&utm_source=Exinfluencer&utm_content=000026UJ&utm_term=10006555&utm_id=NA-SkillsNetwork-Channel-SkillsNetworkCoursesIBMDeveloperSkillsNetworkDB0201ENSkillsNetwork20127838-2021-01-01\">Socioeconomic Indicators in Chicago</a>\n",
    "2.  <a href=\"https://data.cityofchicago.org/Education/Chicago-Public-Schools-Progress-Report-Cards-2011-/9xs2-f89t?utm_medium=Exinfluencer&utm_source=Exinfluencer&utm_content=000026UJ&utm_term=10006555&utm_id=NA-SkillsNetwork-Channel-SkillsNetworkCoursesIBMDeveloperSkillsNetworkDB0201ENSkillsNetwork20127838-2021-01-01\">Chicago Public Schools</a>\n",
    "3.  <a href=\"https://data.cityofchicago.org/Public-Safety/Crimes-2001-to-present/ijzp-q8t2?utm_medium=Exinfluencer&utm_source=Exinfluencer&utm_content=000026UJ&utm_term=10006555&utm_id=NA-SkillsNetwork-Channel-SkillsNetworkCoursesIBMDeveloperSkillsNetworkDB0201ENSkillsNetwork20127838-2021-01-01\">Chicago Crime Data</a>\n",
    "\n",
    "### 1. Socioeconomic Indicators in Chicago\n",
    "\n",
    "This dataset contains a selection of six socioeconomic indicators of public health significance and a “hardship index,” for each Chicago community area, for the years 2008 – 2012.\n",
    "\n",
    "A detailed description of this dataset and the original dataset can be obtained from the Chicago Data Portal at:\n",
    "\n",
    "[https://data.cityofchicago.org/Health-Human-Services/Census-Data-Selected-socioeconomic-indicators-in-C/kn9c-c2s2](https://data.cityofchicago.org/Health-Human-Services/Census-Data-Selected-socioeconomic-indicators-in-C/kn9c-c2s2?utm_medium=Exinfluencer&utm_source=Exinfluencer&utm_content=000026UJ&utm_term=10006555&utm_id=NA-SkillsNetwork-Channel-SkillsNetworkCoursesIBMDeveloperSkillsNetworkDB0201ENSkillsNetwork20127838-2021-01-01&cm_mmc=Email_Newsletter-\\_-Developer_Ed%2BTech-\\_-WW_WW-\\_-SkillsNetwork-Courses-IBMDeveloperSkillsNetwork-DB0201EN-SkillsNetwork-20127838&cm_mmca1=000026UJ&cm_mmca2=10006555&cm_mmca3=M12345678&cvosrc=email.Newsletter.M12345678&cvo_campaign=000026UJ)\n",
    "\n",
    "### 2. Chicago Public Schools\n",
    "\n",
    "This dataset shows all school level performance data used to create CPS School Report Cards for the 2011-2012 school year. This dataset is provided by the city of Chicago's Data Portal.\n",
    "\n",
    "A detailed description of this dataset and the original dataset can be obtained from the Chicago Data Portal at:\n",
    "\n",
    "[https://data.cityofchicago.org/Education/Chicago-Public-Schools-Progress-Report-Cards-2011-/9xs2-f89t](https://data.cityofchicago.org/Education/Chicago-Public-Schools-Progress-Report-Cards-2011-/9xs2-f89t?utm_medium=Exinfluencer&utm_source=Exinfluencer&utm_content=000026UJ&utm_term=10006555&utm_id=NA-SkillsNetwork-Channel-SkillsNetworkCoursesIBMDeveloperSkillsNetworkDB0201ENSkillsNetwork20127838-2021-01-01&cm_mmc=Email_Newsletter-\\_-Developer_Ed%2BTech-\\_-WW_WW-\\_-SkillsNetwork-Courses-IBMDeveloperSkillsNetwork-DB0201EN-SkillsNetwork-20127838&cm_mmca1=000026UJ&cm_mmca2=10006555&cm_mmca3=M12345678&cvosrc=email.Newsletter.M12345678&cvo_campaign=000026UJ)\n",
    "\n",
    "### 3. Chicago Crime Data\n",
    "\n",
    "This dataset reflects reported incidents of crime (with the exception of murders where data exists for each victim) that occurred in the City of Chicago from 2001 to present, minus the most recent seven days.\n",
    "\n",
    "A detailed description of this dataset and the original dataset can be obtained from the Chicago Data Portal at:\n",
    "\n",
    "[https://data.cityofchicago.org/Public-Safety/Crimes-2001-to-present/ijzp-q8t2](https://data.cityofchicago.org/Public-Safety/Crimes-2001-to-present/ijzp-q8t2?utm_medium=Exinfluencer&utm_source=Exinfluencer&utm_content=000026UJ&utm_term=10006555&utm_id=NA-SkillsNetwork-Channel-SkillsNetworkCoursesIBMDeveloperSkillsNetworkDB0201ENSkillsNetwork20127838-2021-01-01&cm_mmc=Email_Newsletter-\\_-Developer_Ed%2BTech-\\_-WW_WW-\\_-SkillsNetwork-Courses-IBMDeveloperSkillsNetwork-DB0201EN-SkillsNetwork-20127838&cm_mmca1=000026UJ&cm_mmca2=10006555&cm_mmca3=M12345678&cvosrc=email.Newsletter.M12345678&cvo_campaign=000026UJ)\n"
   ]
  },
  {
   "cell_type": "markdown",
   "metadata": {},
   "source": [
    "### Download the datasets\n",
    "\n",
    "This assignment requires you to have these three tables populated with a subset of the whole datasets.\n",
    "\n",
    "In many cases the dataset to be analyzed is available as a .CSV (comma separated values) file, perhaps on the internet. \n",
    "\n",
    "Use the links below to read the data files using the Pandas library. \n",
    "\n",
    "* Chicago Census Data\n",
    "\n",
    "https://cf-courses-data.s3.us.cloud-object-storage.appdomain.cloud/IBMDeveloperSkillsNetwork-DB0201EN-SkillsNetwork/labs/FinalModule_Coursera_V5/data/ChicagoCensusData.csv?utm_medium=Exinfluencer&utm_source=Exinfluencer&utm_content=000026UJ&utm_term=10006555&utm_id=NA-SkillsNetwork-Channel-SkillsNetworkCoursesIBMDeveloperSkillsNetworkDB0201ENSkillsNetwork20127838-2021-01-01\n",
    "\n",
    "* Chicago Public Schools\n",
    "\n",
    "https://cf-courses-data.s3.us.cloud-object-storage.appdomain.cloud/IBMDeveloperSkillsNetwork-DB0201EN-SkillsNetwork/labs/FinalModule_Coursera_V5/data/ChicagoPublicSchools.csv?utm_medium=Exinfluencer&utm_source=Exinfluencer&utm_content=000026UJ&utm_term=10006555&utm_id=NA-SkillsNetwork-Channel-SkillsNetworkCoursesIBMDeveloperSkillsNetworkDB0201ENSkillsNetwork20127838-2021-01-01\n",
    "\n",
    "* Chicago Crime Data\n",
    "\n",
    "https://cf-courses-data.s3.us.cloud-object-storage.appdomain.cloud/IBMDeveloperSkillsNetwork-DB0201EN-SkillsNetwork/labs/FinalModule_Coursera_V5/data/ChicagoCrimeData.csv?utm_medium=Exinfluencer&utm_source=Exinfluencer&utm_content=000026UJ&utm_term=10006555&utm_id=NA-SkillsNetwork-Channel-SkillsNetworkCoursesIBMDeveloperSkillsNetworkDB0201ENSkillsNetwork20127838-2021-01-01\n",
    "\n",
    "**NOTE:** Ensure you use the datasets available on the links above instead of directly from the Chicago Data Portal. The versions linked here are subsets of the original datasets and have some of the column names modified to be more database friendly which will make it easier to complete this assignment.\n"
   ]
  },
  {
   "cell_type": "markdown",
   "metadata": {},
   "source": [
    "### Store the datasets in database tables\n",
    "\n",
    "To analyze the data using SQL, it first needs to be loaded into SQLite DB.\n",
    "We will create three tables in as under:\n",
    "\n",
    "1.  **CENSUS_DATA**\n",
    "2.  **CHICAGO_PUBLIC_SCHOOLS**\n",
    "3.  **CHICAGO_CRIME_DATA**\n"
   ]
  },
  {
   "cell_type": "markdown",
   "metadata": {},
   "source": [
    "Load the `pandas` and `sqlite3` libraries and establish a connection to `FinalDB.db`\n"
   ]
  },
  {
   "cell_type": "code",
   "execution_count": 1,
   "metadata": {
    "tags": []
   },
   "outputs": [
    {
     "name": "stdout",
     "output_type": "stream",
     "text": [
      "<sqlite3.Connection object at 0x7f34c70a39d0>\n"
     ]
    }
   ],
   "source": [
    "import pandas\n",
    "import sqlite3\n",
    "\n",
    "conn = sqlite3.connect('FinalDB.db')\n",
    "\n",
    "print(conn)"
   ]
  },
  {
   "cell_type": "markdown",
   "metadata": {},
   "source": [
    "Load the SQL magic module\n"
   ]
  },
  {
   "cell_type": "code",
   "execution_count": 2,
   "metadata": {
    "tags": []
   },
   "outputs": [],
   "source": [
    " %load_ext sql"
   ]
  },
  {
   "cell_type": "markdown",
   "metadata": {},
   "source": [
    "Use `Pandas` to load the data available in the links above to dataframes. Use these dataframes to load data on to the database `FinalDB.db` as required tables.\n"
   ]
  },
  {
   "cell_type": "code",
   "execution_count": 3,
   "metadata": {
    "tags": []
   },
   "outputs": [
    {
     "name": "stderr",
     "output_type": "stream",
     "text": [
      "/home/jupyterlab/conda/envs/python/lib/python3.7/site-packages/pandas/core/generic.py:2882: UserWarning: The spaces in these column names will not be changed. In pandas versions < 0.14, spaces were converted to underscores.\n",
      "  method=method,\n"
     ]
    }
   ],
   "source": [
    "# Loading CSV\n",
    "# df_census = pandas.read_csv(\"ChicagoCensusData.csv\")\n",
    "# df_crime = pandas.read_csv(\"ChicagoCrimeData.csv\")\n",
    "df_school = pandas.read_csv(\"ChicagoPublicSchools.csv\")\n",
    "df_school.rename(columns={\"Elementary, Middle, or High School\":\"Type\"},inplace=True)\n",
    "# Creating tables\n",
    "# df_census.to_sql(\"census\",conn,if_exists=\"replace\")\n",
    "# df_crime.to_sql(\"crime\",conn,if_exists=\"replace\")\n",
    "df_school.to_sql(\"school\",conn,if_exists=\"replace\")"
   ]
  },
  {
   "cell_type": "markdown",
   "metadata": {},
   "source": [
    "Establish a connection between SQL magic module and the database `FinalDB.db`\n"
   ]
  },
  {
   "cell_type": "code",
   "execution_count": 4,
   "metadata": {
    "tags": []
   },
   "outputs": [
    {
     "data": {
      "text/plain": [
       "'Connected: @FinalDB.db'"
      ]
     },
     "execution_count": 4,
     "metadata": {},
     "output_type": "execute_result"
    }
   ],
   "source": [
    "%sql sqlite:///FinalDB.db"
   ]
  },
  {
   "cell_type": "markdown",
   "metadata": {},
   "source": [
    "You can now proceed to the the following questions. Please note that a graded assignment will follow this lab and there will be a question on each of the problems stated below. It can be from the answer you received or the code you write for this problem. Therefore, please keep a note of both your codes as well as the response you generate.\n"
   ]
  },
  {
   "cell_type": "markdown",
   "metadata": {},
   "source": [
    "## Problems\n",
    "\n",
    "Now write and execute SQL queries to solve assignment problems\n",
    "\n",
    "### Problem 1\n",
    "\n",
    "##### Find the total number of crimes recorded in the CRIME table.\n"
   ]
  },
  {
   "cell_type": "code",
   "execution_count": 27,
   "metadata": {
    "tags": []
   },
   "outputs": [
    {
     "name": "stdout",
     "output_type": "stream",
     "text": [
      " * sqlite:///FinalDB.db\n",
      "Done.\n"
     ]
    },
    {
     "data": {
      "text/html": [
       "<table>\n",
       "    <thead>\n",
       "        <tr>\n",
       "            <th>Crime_records</th>\n",
       "        </tr>\n",
       "    </thead>\n",
       "    <tbody>\n",
       "        <tr>\n",
       "            <td>533</td>\n",
       "        </tr>\n",
       "    </tbody>\n",
       "</table>"
      ],
      "text/plain": [
       "[(533,)]"
      ]
     },
     "execution_count": 27,
     "metadata": {},
     "output_type": "execute_result"
    }
   ],
   "source": [
    "%%sql\n",
    "SELECT COUNT(ID) as Crime_records from crime "
   ]
  },
  {
   "cell_type": "markdown",
   "metadata": {},
   "source": [
    "### Problem 2\n",
    "\n",
    "##### List community area names and numbers with per capita income less than 11000.\n"
   ]
  },
  {
   "cell_type": "code",
   "execution_count": 31,
   "metadata": {
    "tags": []
   },
   "outputs": [
    {
     "name": "stdout",
     "output_type": "stream",
     "text": [
      " * sqlite:///FinalDB.db\n",
      "Done.\n"
     ]
    },
    {
     "data": {
      "text/html": [
       "<table>\n",
       "    <thead>\n",
       "        <tr>\n",
       "            <th>index</th>\n",
       "            <th>COMMUNITY_AREA_NUMBER</th>\n",
       "            <th>COMMUNITY_AREA_NAME</th>\n",
       "            <th>PERCENT_OF_HOUSING_CROWDED</th>\n",
       "            <th>PERCENT_HOUSEHOLDS_BELOW_POVERTY</th>\n",
       "            <th>PERCENT_AGED_16__UNEMPLOYED</th>\n",
       "            <th>PERCENT_AGED_25__WITHOUT_HIGH_SCHOOL_DIPLOMA</th>\n",
       "            <th>PERCENT_AGED_UNDER_18_OR_OVER_64</th>\n",
       "            <th>PER_CAPITA_INCOME</th>\n",
       "            <th>HARDSHIP_INDEX</th>\n",
       "        </tr>\n",
       "    </thead>\n",
       "    <tbody>\n",
       "        <tr>\n",
       "            <td>0</td>\n",
       "            <td>1.0</td>\n",
       "            <td>Rogers Park</td>\n",
       "            <td>7.7</td>\n",
       "            <td>23.6</td>\n",
       "            <td>8.7</td>\n",
       "            <td>18.2</td>\n",
       "            <td>27.5</td>\n",
       "            <td>23939</td>\n",
       "            <td>39.0</td>\n",
       "        </tr>\n",
       "    </tbody>\n",
       "</table>"
      ],
      "text/plain": [
       "[(0, 1.0, 'Rogers Park', 7.7, 23.6, 8.7, 18.2, 27.5, 23939, 39.0)]"
      ]
     },
     "execution_count": 31,
     "metadata": {},
     "output_type": "execute_result"
    }
   ],
   "source": [
    "%%sql\n",
    "SELECT * from census LIMIT 1"
   ]
  },
  {
   "cell_type": "code",
   "execution_count": 33,
   "metadata": {
    "tags": []
   },
   "outputs": [
    {
     "name": "stdout",
     "output_type": "stream",
     "text": [
      " * sqlite:///FinalDB.db\n",
      "Done.\n"
     ]
    },
    {
     "data": {
      "text/html": [
       "<table>\n",
       "    <thead>\n",
       "        <tr>\n",
       "            <th>COMMUNITY_AREA_NUMBER</th>\n",
       "            <th>COMMUNITY_AREA_NAME</th>\n",
       "        </tr>\n",
       "    </thead>\n",
       "    <tbody>\n",
       "        <tr>\n",
       "            <td>26.0</td>\n",
       "            <td>West Garfield Park</td>\n",
       "        </tr>\n",
       "        <tr>\n",
       "            <td>30.0</td>\n",
       "            <td>South Lawndale</td>\n",
       "        </tr>\n",
       "        <tr>\n",
       "            <td>37.0</td>\n",
       "            <td>Fuller Park</td>\n",
       "        </tr>\n",
       "        <tr>\n",
       "            <td>54.0</td>\n",
       "            <td>Riverdale</td>\n",
       "        </tr>\n",
       "    </tbody>\n",
       "</table>"
      ],
      "text/plain": [
       "[(26.0, 'West Garfield Park'),\n",
       " (30.0, 'South Lawndale'),\n",
       " (37.0, 'Fuller Park'),\n",
       " (54.0, 'Riverdale')]"
      ]
     },
     "execution_count": 33,
     "metadata": {},
     "output_type": "execute_result"
    }
   ],
   "source": [
    "%%sql\n",
    "SELECT COMMUNITY_AREA_NUMBER,\n",
    "    COMMUNITY_AREA_NAME\n",
    "    from census\n",
    "    WHERE PER_CAPITA_INCOME < 11000"
   ]
  },
  {
   "cell_type": "markdown",
   "metadata": {},
   "source": [
    "### Problem 3\n",
    "\n",
    "##### List all case numbers for crimes involving minors?(children are not considered minors for the purposes of crime analysis) \n"
   ]
  },
  {
   "cell_type": "code",
   "execution_count": 37,
   "metadata": {
    "tags": []
   },
   "outputs": [
    {
     "name": "stdout",
     "output_type": "stream",
     "text": [
      " * sqlite:///FinalDB.db\n",
      "Done.\n"
     ]
    },
    {
     "data": {
      "text/html": [
       "<table>\n",
       "    <thead>\n",
       "        <tr>\n",
       "            <th>index</th>\n",
       "            <th>ID</th>\n",
       "            <th>CASE_NUMBER</th>\n",
       "            <th>DATE</th>\n",
       "            <th>BLOCK</th>\n",
       "            <th>IUCR</th>\n",
       "            <th>PRIMARY_TYPE</th>\n",
       "            <th>DESCRIPTION</th>\n",
       "            <th>LOCATION_DESCRIPTION</th>\n",
       "            <th>ARREST</th>\n",
       "            <th>DOMESTIC</th>\n",
       "            <th>BEAT</th>\n",
       "            <th>DISTRICT</th>\n",
       "            <th>WARD</th>\n",
       "            <th>COMMUNITY_AREA_NUMBER</th>\n",
       "            <th>FBICODE</th>\n",
       "            <th>X_COORDINATE</th>\n",
       "            <th>Y_COORDINATE</th>\n",
       "            <th>YEAR</th>\n",
       "            <th>LATITUDE</th>\n",
       "            <th>LONGITUDE</th>\n",
       "            <th>LOCATION</th>\n",
       "        </tr>\n",
       "    </thead>\n",
       "    <tbody>\n",
       "        <tr>\n",
       "            <td>0</td>\n",
       "            <td>3512276</td>\n",
       "            <td>HK587712</td>\n",
       "            <td>2004-08-28</td>\n",
       "            <td>047XX S KEDZIE AVE</td>\n",
       "            <td>890</td>\n",
       "            <td>THEFT</td>\n",
       "            <td>FROM BUILDING</td>\n",
       "            <td>SMALL RETAIL STORE</td>\n",
       "            <td>0</td>\n",
       "            <td>0</td>\n",
       "            <td>911</td>\n",
       "            <td>9</td>\n",
       "            <td>14.0</td>\n",
       "            <td>58.0</td>\n",
       "            <td>6</td>\n",
       "            <td>1155838.0</td>\n",
       "            <td>1873050.0</td>\n",
       "            <td>2004</td>\n",
       "            <td>41.8074405</td>\n",
       "            <td>-87.70395585</td>\n",
       "            <td>(41.8074405, -87.703955849)</td>\n",
       "        </tr>\n",
       "        <tr>\n",
       "            <td>1</td>\n",
       "            <td>3406613</td>\n",
       "            <td>HK456306</td>\n",
       "            <td>2004-06-26</td>\n",
       "            <td>009XX N CENTRAL PARK AVE</td>\n",
       "            <td>820</td>\n",
       "            <td>THEFT</td>\n",
       "            <td>$500 AND UNDER</td>\n",
       "            <td>OTHER</td>\n",
       "            <td>0</td>\n",
       "            <td>0</td>\n",
       "            <td>1112</td>\n",
       "            <td>11</td>\n",
       "            <td>27.0</td>\n",
       "            <td>23.0</td>\n",
       "            <td>6</td>\n",
       "            <td>1152206.0</td>\n",
       "            <td>1906127.0</td>\n",
       "            <td>2004</td>\n",
       "            <td>41.89827996</td>\n",
       "            <td>-87.71640551</td>\n",
       "            <td>(41.898279962, -87.716405505)</td>\n",
       "        </tr>\n",
       "        <tr>\n",
       "            <td>2</td>\n",
       "            <td>8002131</td>\n",
       "            <td>HT233595</td>\n",
       "            <td>2011-04-04</td>\n",
       "            <td>043XX S WABASH AVE</td>\n",
       "            <td>820</td>\n",
       "            <td>THEFT</td>\n",
       "            <td>$500 AND UNDER</td>\n",
       "            <td>NURSING HOME/RETIREMENT HOME</td>\n",
       "            <td>0</td>\n",
       "            <td>0</td>\n",
       "            <td>221</td>\n",
       "            <td>2</td>\n",
       "            <td>3.0</td>\n",
       "            <td>38.0</td>\n",
       "            <td>6</td>\n",
       "            <td>1177436.0</td>\n",
       "            <td>1876313.0</td>\n",
       "            <td>2011</td>\n",
       "            <td>41.81593313</td>\n",
       "            <td>-87.62464213</td>\n",
       "            <td>(41.815933131, -87.624642127)</td>\n",
       "        </tr>\n",
       "        <tr>\n",
       "            <td>3</td>\n",
       "            <td>7903289</td>\n",
       "            <td>HT133522</td>\n",
       "            <td>2010-12-30</td>\n",
       "            <td>083XX S KINGSTON AVE</td>\n",
       "            <td>840</td>\n",
       "            <td>THEFT</td>\n",
       "            <td>FINANCIAL ID THEFT: OVER $300</td>\n",
       "            <td>RESIDENCE</td>\n",
       "            <td>0</td>\n",
       "            <td>0</td>\n",
       "            <td>423</td>\n",
       "            <td>4</td>\n",
       "            <td>7.0</td>\n",
       "            <td>46.0</td>\n",
       "            <td>6</td>\n",
       "            <td>1194622.0</td>\n",
       "            <td>1850125.0</td>\n",
       "            <td>2010</td>\n",
       "            <td>41.74366532</td>\n",
       "            <td>-87.56246276</td>\n",
       "            <td>(41.743665322, -87.562462756)</td>\n",
       "        </tr>\n",
       "        <tr>\n",
       "            <td>4</td>\n",
       "            <td>10402076</td>\n",
       "            <td>HZ138551</td>\n",
       "            <td>2016-02-02</td>\n",
       "            <td>033XX W 66TH ST</td>\n",
       "            <td>820</td>\n",
       "            <td>THEFT</td>\n",
       "            <td>$500 AND UNDER</td>\n",
       "            <td>ALLEY</td>\n",
       "            <td>0</td>\n",
       "            <td>0</td>\n",
       "            <td>831</td>\n",
       "            <td>8</td>\n",
       "            <td>15.0</td>\n",
       "            <td>66.0</td>\n",
       "            <td>6</td>\n",
       "            <td>1155240.0</td>\n",
       "            <td>1860661.0</td>\n",
       "            <td>2016</td>\n",
       "            <td>41.7734553</td>\n",
       "            <td>-87.70648047</td>\n",
       "            <td>(41.773455295, -87.706480471)</td>\n",
       "        </tr>\n",
       "        <tr>\n",
       "            <td>5</td>\n",
       "            <td>7732712</td>\n",
       "            <td>HS540106</td>\n",
       "            <td>2010-09-29</td>\n",
       "            <td>006XX W CHICAGO AVE</td>\n",
       "            <td>810</td>\n",
       "            <td>THEFT</td>\n",
       "            <td>OVER $500</td>\n",
       "            <td>PARKING LOT/GARAGE(NON.RESID.)</td>\n",
       "            <td>0</td>\n",
       "            <td>0</td>\n",
       "            <td>1323</td>\n",
       "            <td>12</td>\n",
       "            <td>27.0</td>\n",
       "            <td>24.0</td>\n",
       "            <td>6</td>\n",
       "            <td>1171668.0</td>\n",
       "            <td>1905607.0</td>\n",
       "            <td>2010</td>\n",
       "            <td>41.89644677</td>\n",
       "            <td>-87.64493868</td>\n",
       "            <td>(41.896446772, -87.644938678)</td>\n",
       "        </tr>\n",
       "        <tr>\n",
       "            <td>6</td>\n",
       "            <td>10769475</td>\n",
       "            <td>HZ534771</td>\n",
       "            <td>2016-11-30</td>\n",
       "            <td>050XX N KEDZIE AVE</td>\n",
       "            <td>810</td>\n",
       "            <td>THEFT</td>\n",
       "            <td>OVER $500</td>\n",
       "            <td>STREET</td>\n",
       "            <td>0</td>\n",
       "            <td>0</td>\n",
       "            <td>1713</td>\n",
       "            <td>17</td>\n",
       "            <td>33.0</td>\n",
       "            <td>14.0</td>\n",
       "            <td>6</td>\n",
       "            <td>1154133.0</td>\n",
       "            <td>1933314.0</td>\n",
       "            <td>2016</td>\n",
       "            <td>41.97284491</td>\n",
       "            <td>-87.70860008</td>\n",
       "            <td>(41.972844913, -87.708600079)</td>\n",
       "        </tr>\n",
       "        <tr>\n",
       "            <td>7</td>\n",
       "            <td>4494340</td>\n",
       "            <td>HL793243</td>\n",
       "            <td>2005-12-16</td>\n",
       "            <td>005XX E PERSHING RD</td>\n",
       "            <td>860</td>\n",
       "            <td>THEFT</td>\n",
       "            <td>RETAIL THEFT</td>\n",
       "            <td>GROCERY FOOD STORE</td>\n",
       "            <td>1</td>\n",
       "            <td>0</td>\n",
       "            <td>213</td>\n",
       "            <td>2</td>\n",
       "            <td>3.0</td>\n",
       "            <td>38.0</td>\n",
       "            <td>6</td>\n",
       "            <td>1180448.0</td>\n",
       "            <td>1879234.0</td>\n",
       "            <td>2005</td>\n",
       "            <td>41.82387989</td>\n",
       "            <td>-87.61350386</td>\n",
       "            <td>(41.823879885, -87.613503857)</td>\n",
       "        </tr>\n",
       "        <tr>\n",
       "            <td>8</td>\n",
       "            <td>3778925</td>\n",
       "            <td>HL149610</td>\n",
       "            <td>2005-01-28</td>\n",
       "            <td>100XX S WASHTENAW AVE</td>\n",
       "            <td>810</td>\n",
       "            <td>THEFT</td>\n",
       "            <td>OVER $500</td>\n",
       "            <td>STREET</td>\n",
       "            <td>0</td>\n",
       "            <td>0</td>\n",
       "            <td>2211</td>\n",
       "            <td>22</td>\n",
       "            <td>19.0</td>\n",
       "            <td>72.0</td>\n",
       "            <td>6</td>\n",
       "            <td>1160129.0</td>\n",
       "            <td>1838040.0</td>\n",
       "            <td>2005</td>\n",
       "            <td>41.71128051</td>\n",
       "            <td>-87.6891791</td>\n",
       "            <td>(41.711280513, -87.689179097)</td>\n",
       "        </tr>\n",
       "        <tr>\n",
       "            <td>9</td>\n",
       "            <td>3324217</td>\n",
       "            <td>HK361551</td>\n",
       "            <td>2004-05-13</td>\n",
       "            <td>033XX W BELMONT AVE</td>\n",
       "            <td>820</td>\n",
       "            <td>THEFT</td>\n",
       "            <td>$500 AND UNDER</td>\n",
       "            <td>SMALL RETAIL STORE</td>\n",
       "            <td>0</td>\n",
       "            <td>0</td>\n",
       "            <td>1733</td>\n",
       "            <td>17</td>\n",
       "            <td>35.0</td>\n",
       "            <td>21.0</td>\n",
       "            <td>6</td>\n",
       "            <td>1153590.0</td>\n",
       "            <td>1921084.0</td>\n",
       "            <td>2004</td>\n",
       "            <td>41.93929582</td>\n",
       "            <td>-87.71092344</td>\n",
       "            <td>(41.939295821, -87.710923442)</td>\n",
       "        </tr>\n",
       "        <tr>\n",
       "            <td>10</td>\n",
       "            <td>9902691</td>\n",
       "            <td>HX552797</td>\n",
       "            <td>2014-12-23</td>\n",
       "            <td>076XX S CICERO AVE</td>\n",
       "            <td>860</td>\n",
       "            <td>THEFT</td>\n",
       "            <td>RETAIL THEFT</td>\n",
       "            <td>DEPARTMENT STORE</td>\n",
       "            <td>1</td>\n",
       "            <td>0</td>\n",
       "            <td>833</td>\n",
       "            <td>8</td>\n",
       "            <td>13.0</td>\n",
       "            <td>65.0</td>\n",
       "            <td>6</td>\n",
       "            <td>1145727.0</td>\n",
       "            <td>1853720.0</td>\n",
       "            <td>2014</td>\n",
       "            <td>41.75459296</td>\n",
       "            <td>-87.74152854</td>\n",
       "            <td>(41.754592961, -87.741528537)</td>\n",
       "        </tr>\n",
       "        <tr>\n",
       "            <td>11</td>\n",
       "            <td>7947964</td>\n",
       "            <td>HT180228</td>\n",
       "            <td>2011-02-26</td>\n",
       "            <td>012XX S HALSTED ST</td>\n",
       "            <td>820</td>\n",
       "            <td>THEFT</td>\n",
       "            <td>$500 AND UNDER</td>\n",
       "            <td>BAR OR TAVERN</td>\n",
       "            <td>0</td>\n",
       "            <td>0</td>\n",
       "            <td>1232</td>\n",
       "            <td>12</td>\n",
       "            <td>25.0</td>\n",
       "            <td>28.0</td>\n",
       "            <td>6</td>\n",
       "            <td>1171230.0</td>\n",
       "            <td>1894421.0</td>\n",
       "            <td>2011</td>\n",
       "            <td>41.86576126</td>\n",
       "            <td>-87.64687598</td>\n",
       "            <td>(41.865761261, -87.646875977)</td>\n",
       "        </tr>\n",
       "        <tr>\n",
       "            <td>12</td>\n",
       "            <td>8568365</td>\n",
       "            <td>HV243612</td>\n",
       "            <td>2012-04-15</td>\n",
       "            <td>108XX S EMERALD AVE</td>\n",
       "            <td>820</td>\n",
       "            <td>THEFT</td>\n",
       "            <td>$500 AND UNDER</td>\n",
       "            <td>RESIDENTIAL YARD (FRONT/BACK)</td>\n",
       "            <td>0</td>\n",
       "            <td>0</td>\n",
       "            <td>2233</td>\n",
       "            <td>22</td>\n",
       "            <td>34.0</td>\n",
       "            <td>49.0</td>\n",
       "            <td>6</td>\n",
       "            <td>1173239.0</td>\n",
       "            <td>1832994.0</td>\n",
       "            <td>2012</td>\n",
       "            <td>41.69715437</td>\n",
       "            <td>-87.64131567</td>\n",
       "            <td>(41.697154372, -87.641315669)</td>\n",
       "        </tr>\n",
       "        <tr>\n",
       "            <td>13</td>\n",
       "            <td>5343947</td>\n",
       "            <td>HN200365</td>\n",
       "            <td>2007-02-26</td>\n",
       "            <td>011XX S CANAL ST</td>\n",
       "            <td>842</td>\n",
       "            <td>THEFT</td>\n",
       "            <td>AGG: FINANCIAL ID THEFT</td>\n",
       "            <td>OTHER</td>\n",
       "            <td>0</td>\n",
       "            <td>0</td>\n",
       "            <td>131</td>\n",
       "            <td>1</td>\n",
       "            <td>2.0</td>\n",
       "            <td>28.0</td>\n",
       "            <td>6</td>\n",
       "            <td>1173307.0</td>\n",
       "            <td>1895342.0</td>\n",
       "            <td>2007</td>\n",
       "            <td>41.86824272</td>\n",
       "            <td>-87.63922391</td>\n",
       "            <td>(41.868242722, -87.639223912)</td>\n",
       "        </tr>\n",
       "        <tr>\n",
       "            <td>14</td>\n",
       "            <td>3121541</td>\n",
       "            <td>HK108680</td>\n",
       "            <td>2003-01-05</td>\n",
       "            <td>038XX W FLOURNOY ST</td>\n",
       "            <td>890</td>\n",
       "            <td>THEFT</td>\n",
       "            <td>FROM BUILDING</td>\n",
       "            <td>RESIDENCE PORCH/HALLWAY</td>\n",
       "            <td>0</td>\n",
       "            <td>0</td>\n",
       "            <td>1133</td>\n",
       "            <td>11</td>\n",
       "            <td>24.0</td>\n",
       "            <td>26.0</td>\n",
       "            <td>6</td>\n",
       "            <td>1150808.0</td>\n",
       "            <td>1896753.0</td>\n",
       "            <td>2003</td>\n",
       "            <td>41.87258418</td>\n",
       "            <td>-87.72178565</td>\n",
       "            <td>(41.872584178, -87.72178565)</td>\n",
       "        </tr>\n",
       "        <tr>\n",
       "            <td>15</td>\n",
       "            <td>10209850</td>\n",
       "            <td>HY396729</td>\n",
       "            <td>2015-08-24</td>\n",
       "            <td>026XX N ELSTON AVE</td>\n",
       "            <td>820</td>\n",
       "            <td>THEFT</td>\n",
       "            <td>$500 AND UNDER</td>\n",
       "            <td>PARKING LOT/GARAGE(NON.RESID.)</td>\n",
       "            <td>0</td>\n",
       "            <td>0</td>\n",
       "            <td>1432</td>\n",
       "            <td>14</td>\n",
       "            <td>1.0</td>\n",
       "            <td>22.0</td>\n",
       "            <td>6</td>\n",
       "            <td>1160867.0</td>\n",
       "            <td>1917657.0</td>\n",
       "            <td>2015</td>\n",
       "            <td>41.92974382</td>\n",
       "            <td>-87.68427378</td>\n",
       "            <td>(41.929743818, -87.684273777)</td>\n",
       "        </tr>\n",
       "        <tr>\n",
       "            <td>16</td>\n",
       "            <td>6866556</td>\n",
       "            <td>HR271603</td>\n",
       "            <td>2009-04-16</td>\n",
       "            <td>089XX S STONY ISLAND AVE</td>\n",
       "            <td>860</td>\n",
       "            <td>THEFT</td>\n",
       "            <td>RETAIL THEFT</td>\n",
       "            <td>OTHER</td>\n",
       "            <td>1</td>\n",
       "            <td>0</td>\n",
       "            <td>413</td>\n",
       "            <td>4</td>\n",
       "            <td>8.0</td>\n",
       "            <td>48.0</td>\n",
       "            <td>6</td>\n",
       "            <td>1188475.0</td>\n",
       "            <td>1846086.0</td>\n",
       "            <td>2009</td>\n",
       "            <td>41.73273081</td>\n",
       "            <td>-87.58511413</td>\n",
       "            <td>(41.732730806, -87.585114125)</td>\n",
       "        </tr>\n",
       "        <tr>\n",
       "            <td>17</td>\n",
       "            <td>9681782</td>\n",
       "            <td>HX332132</td>\n",
       "            <td>2014-07-04</td>\n",
       "            <td>079XX S STATE ST</td>\n",
       "            <td>820</td>\n",
       "            <td>THEFT</td>\n",
       "            <td>$500 AND UNDER</td>\n",
       "            <td>CTA PLATFORM</td>\n",
       "            <td>0</td>\n",
       "            <td>0</td>\n",
       "            <td>623</td>\n",
       "            <td>6</td>\n",
       "            <td>6.0</td>\n",
       "            <td>44.0</td>\n",
       "            <td>6</td>\n",
       "            <td>1177660.0</td>\n",
       "            <td>1852569.0</td>\n",
       "            <td>2014</td>\n",
       "            <td>41.75077211</td>\n",
       "            <td>-87.62453842</td>\n",
       "            <td>(41.750772111, -87.624538423)</td>\n",
       "        </tr>\n",
       "        <tr>\n",
       "            <td>18</td>\n",
       "            <td>9166453</td>\n",
       "            <td>HW303994</td>\n",
       "            <td>2013-06-04</td>\n",
       "            <td>055XX W GLADYS AVE</td>\n",
       "            <td>810</td>\n",
       "            <td>THEFT</td>\n",
       "            <td>OVER $500</td>\n",
       "            <td>VACANT LOT/LAND</td>\n",
       "            <td>0</td>\n",
       "            <td>0</td>\n",
       "            <td>1522</td>\n",
       "            <td>15</td>\n",
       "            <td>29.0</td>\n",
       "            <td>25.0</td>\n",
       "            <td>6</td>\n",
       "            <td>1139693.0</td>\n",
       "            <td>1897797.0</td>\n",
       "            <td>2013</td>\n",
       "            <td>41.87565911</td>\n",
       "            <td>-87.76256886</td>\n",
       "            <td>(41.875659108, -87.762568861)</td>\n",
       "        </tr>\n",
       "        <tr>\n",
       "            <td>19</td>\n",
       "            <td>7762423</td>\n",
       "            <td>HS569246</td>\n",
       "            <td>2010-10-17</td>\n",
       "            <td>058XX W ARTHINGTON ST</td>\n",
       "            <td>880</td>\n",
       "            <td>THEFT</td>\n",
       "            <td>PURSE-SNATCHING</td>\n",
       "            <td>SIDEWALK</td>\n",
       "            <td>0</td>\n",
       "            <td>0</td>\n",
       "            <td>1513</td>\n",
       "            <td>15</td>\n",
       "            <td>29.0</td>\n",
       "            <td>25.0</td>\n",
       "            <td>6</td>\n",
       "            <td>1137635.0</td>\n",
       "            <td>1895420.0</td>\n",
       "            <td>2010</td>\n",
       "            <td>41.8691736</td>\n",
       "            <td>-87.77018245</td>\n",
       "            <td>(41.869173601, -87.770182447)</td>\n",
       "        </tr>\n",
       "    </tbody>\n",
       "</table>"
      ],
      "text/plain": [
       "[(0, 3512276, 'HK587712', '2004-08-28', '047XX S KEDZIE AVE', '890', 'THEFT', 'FROM BUILDING', 'SMALL RETAIL STORE', 0, 0, 911, 9, 14.0, 58.0, '6', 1155838.0, 1873050.0, 2004, 41.8074405, -87.70395585, '(41.8074405, -87.703955849)'),\n",
       " (1, 3406613, 'HK456306', '2004-06-26', '009XX N CENTRAL PARK AVE', '820', 'THEFT', '$500 AND UNDER', 'OTHER', 0, 0, 1112, 11, 27.0, 23.0, '6', 1152206.0, 1906127.0, 2004, 41.89827996, -87.71640551, '(41.898279962, -87.716405505)'),\n",
       " (2, 8002131, 'HT233595', '2011-04-04', '043XX S WABASH AVE', '820', 'THEFT', '$500 AND UNDER', 'NURSING HOME/RETIREMENT HOME', 0, 0, 221, 2, 3.0, 38.0, '6', 1177436.0, 1876313.0, 2011, 41.81593313, -87.62464213, '(41.815933131, -87.624642127)'),\n",
       " (3, 7903289, 'HT133522', '2010-12-30', '083XX S KINGSTON AVE', '840', 'THEFT', 'FINANCIAL ID THEFT: OVER $300', 'RESIDENCE', 0, 0, 423, 4, 7.0, 46.0, '6', 1194622.0, 1850125.0, 2010, 41.74366532, -87.56246276, '(41.743665322, -87.562462756)'),\n",
       " (4, 10402076, 'HZ138551', '2016-02-02', '033XX W 66TH ST', '820', 'THEFT', '$500 AND UNDER', 'ALLEY', 0, 0, 831, 8, 15.0, 66.0, '6', 1155240.0, 1860661.0, 2016, 41.7734553, -87.70648047, '(41.773455295, -87.706480471)'),\n",
       " (5, 7732712, 'HS540106', '2010-09-29', '006XX W CHICAGO AVE', '810', 'THEFT', 'OVER $500', 'PARKING LOT/GARAGE(NON.RESID.)', 0, 0, 1323, 12, 27.0, 24.0, '6', 1171668.0, 1905607.0, 2010, 41.89644677, -87.64493868, '(41.896446772, -87.644938678)'),\n",
       " (6, 10769475, 'HZ534771', '2016-11-30', '050XX N KEDZIE AVE', '810', 'THEFT', 'OVER $500', 'STREET', 0, 0, 1713, 17, 33.0, 14.0, '6', 1154133.0, 1933314.0, 2016, 41.97284491, -87.70860008, '(41.972844913, -87.708600079)'),\n",
       " (7, 4494340, 'HL793243', '2005-12-16', '005XX E PERSHING RD', '860', 'THEFT', 'RETAIL THEFT', 'GROCERY FOOD STORE', 1, 0, 213, 2, 3.0, 38.0, '6', 1180448.0, 1879234.0, 2005, 41.82387989, -87.61350386, '(41.823879885, -87.613503857)'),\n",
       " (8, 3778925, 'HL149610', '2005-01-28', '100XX S WASHTENAW AVE', '810', 'THEFT', 'OVER $500', 'STREET', 0, 0, 2211, 22, 19.0, 72.0, '6', 1160129.0, 1838040.0, 2005, 41.71128051, -87.6891791, '(41.711280513, -87.689179097)'),\n",
       " (9, 3324217, 'HK361551', '2004-05-13', '033XX W BELMONT AVE', '820', 'THEFT', '$500 AND UNDER', 'SMALL RETAIL STORE', 0, 0, 1733, 17, 35.0, 21.0, '6', 1153590.0, 1921084.0, 2004, 41.93929582, -87.71092344, '(41.939295821, -87.710923442)'),\n",
       " (10, 9902691, 'HX552797', '2014-12-23', '076XX S CICERO AVE', '860', 'THEFT', 'RETAIL THEFT', 'DEPARTMENT STORE', 1, 0, 833, 8, 13.0, 65.0, '6', 1145727.0, 1853720.0, 2014, 41.75459296, -87.74152854, '(41.754592961, -87.741528537)'),\n",
       " (11, 7947964, 'HT180228', '2011-02-26', '012XX S HALSTED ST', '820', 'THEFT', '$500 AND UNDER', 'BAR OR TAVERN', 0, 0, 1232, 12, 25.0, 28.0, '6', 1171230.0, 1894421.0, 2011, 41.86576126, -87.64687598, '(41.865761261, -87.646875977)'),\n",
       " (12, 8568365, 'HV243612', '2012-04-15', '108XX S EMERALD AVE', '820', 'THEFT', '$500 AND UNDER', 'RESIDENTIAL YARD (FRONT/BACK)', 0, 0, 2233, 22, 34.0, 49.0, '6', 1173239.0, 1832994.0, 2012, 41.69715437, -87.64131567, '(41.697154372, -87.641315669)'),\n",
       " (13, 5343947, 'HN200365', '2007-02-26', '011XX S CANAL ST', '842', 'THEFT', 'AGG: FINANCIAL ID THEFT', 'OTHER', 0, 0, 131, 1, 2.0, 28.0, '6', 1173307.0, 1895342.0, 2007, 41.86824272, -87.63922391, '(41.868242722, -87.639223912)'),\n",
       " (14, 3121541, 'HK108680', '2003-01-05', '038XX W FLOURNOY ST', '890', 'THEFT', 'FROM BUILDING', 'RESIDENCE PORCH/HALLWAY', 0, 0, 1133, 11, 24.0, 26.0, '6', 1150808.0, 1896753.0, 2003, 41.87258418, -87.72178565, '(41.872584178, -87.72178565)'),\n",
       " (15, 10209850, 'HY396729', '2015-08-24', '026XX N ELSTON AVE', '820', 'THEFT', '$500 AND UNDER', 'PARKING LOT/GARAGE(NON.RESID.)', 0, 0, 1432, 14, 1.0, 22.0, '6', 1160867.0, 1917657.0, 2015, 41.92974382, -87.68427378, '(41.929743818, -87.684273777)'),\n",
       " (16, 6866556, 'HR271603', '2009-04-16', '089XX S STONY ISLAND AVE', '860', 'THEFT', 'RETAIL THEFT', 'OTHER', 1, 0, 413, 4, 8.0, 48.0, '6', 1188475.0, 1846086.0, 2009, 41.73273081, -87.58511413, '(41.732730806, -87.585114125)'),\n",
       " (17, 9681782, 'HX332132', '2014-07-04', '079XX S STATE ST', '820', 'THEFT', '$500 AND UNDER', 'CTA PLATFORM', 0, 0, 623, 6, 6.0, 44.0, '6', 1177660.0, 1852569.0, 2014, 41.75077211, -87.62453842, '(41.750772111, -87.624538423)'),\n",
       " (18, 9166453, 'HW303994', '2013-06-04', '055XX W GLADYS AVE', '810', 'THEFT', 'OVER $500', 'VACANT LOT/LAND', 0, 0, 1522, 15, 29.0, 25.0, '6', 1139693.0, 1897797.0, 2013, 41.87565911, -87.76256886, '(41.875659108, -87.762568861)'),\n",
       " (19, 7762423, 'HS569246', '2010-10-17', '058XX W ARTHINGTON ST', '880', 'THEFT', 'PURSE-SNATCHING', 'SIDEWALK', 0, 0, 1513, 15, 29.0, 25.0, '6', 1137635.0, 1895420.0, 2010, 41.8691736, -87.77018245, '(41.869173601, -87.770182447)')]"
      ]
     },
     "execution_count": 37,
     "metadata": {},
     "output_type": "execute_result"
    }
   ],
   "source": [
    "%%sql\n",
    "SELECT * from crime LIMIT 20"
   ]
  },
  {
   "cell_type": "code",
   "execution_count": 40,
   "metadata": {
    "tags": []
   },
   "outputs": [
    {
     "name": "stdout",
     "output_type": "stream",
     "text": [
      " * sqlite:///FinalDB.db\n",
      "Done.\n"
     ]
    },
    {
     "data": {
      "text/html": [
       "<table>\n",
       "    <thead>\n",
       "        <tr>\n",
       "            <th>index</th>\n",
       "            <th>ID</th>\n",
       "            <th>CASE_NUMBER</th>\n",
       "            <th>DATE</th>\n",
       "            <th>BLOCK</th>\n",
       "            <th>IUCR</th>\n",
       "            <th>PRIMARY_TYPE</th>\n",
       "            <th>DESCRIPTION</th>\n",
       "            <th>LOCATION_DESCRIPTION</th>\n",
       "            <th>ARREST</th>\n",
       "            <th>DOMESTIC</th>\n",
       "            <th>BEAT</th>\n",
       "            <th>DISTRICT</th>\n",
       "            <th>WARD</th>\n",
       "            <th>COMMUNITY_AREA_NUMBER</th>\n",
       "            <th>FBICODE</th>\n",
       "            <th>X_COORDINATE</th>\n",
       "            <th>Y_COORDINATE</th>\n",
       "            <th>YEAR</th>\n",
       "            <th>LATITUDE</th>\n",
       "            <th>LONGITUDE</th>\n",
       "            <th>LOCATION</th>\n",
       "        </tr>\n",
       "    </thead>\n",
       "    <tbody>\n",
       "        <tr>\n",
       "            <td>514</td>\n",
       "            <td>3987219</td>\n",
       "            <td>HL266884</td>\n",
       "            <td>2005-03-31</td>\n",
       "            <td>024XX N CLARK ST</td>\n",
       "            <td>2210</td>\n",
       "            <td>LIQUOR LAW VIOLATION</td>\n",
       "            <td>SELL/GIVE/DEL LIQUOR TO MINOR</td>\n",
       "            <td>CONVENIENCE STORE</td>\n",
       "            <td>1</td>\n",
       "            <td>0</td>\n",
       "            <td>2333</td>\n",
       "            <td>19</td>\n",
       "            <td>43.0</td>\n",
       "            <td>7.0</td>\n",
       "            <td>22</td>\n",
       "            <td>1172680.0</td>\n",
       "            <td>1916483.0</td>\n",
       "            <td>2005</td>\n",
       "            <td>41.92626872</td>\n",
       "            <td>-87.64089934</td>\n",
       "            <td>(41.926268719, -87.640899336)</td>\n",
       "        </tr>\n",
       "        <tr>\n",
       "            <td>515</td>\n",
       "            <td>3266814</td>\n",
       "            <td>HK238408</td>\n",
       "            <td>2004-03-13</td>\n",
       "            <td>093XX S STONY ISLAND AVE</td>\n",
       "            <td>2230</td>\n",
       "            <td>LIQUOR LAW VIOLATION</td>\n",
       "            <td>ILLEGAL CONSUMPTION BY MINOR</td>\n",
       "            <td>ALLEY</td>\n",
       "            <td>1</td>\n",
       "            <td>0</td>\n",
       "            <td>413</td>\n",
       "            <td>4</td>\n",
       "            <td>8.0</td>\n",
       "            <td>48.0</td>\n",
       "            <td>22</td>\n",
       "            <td>1188539.0</td>\n",
       "            <td>1843379.0</td>\n",
       "            <td>2004</td>\n",
       "            <td>41.72530099</td>\n",
       "            <td>-87.58496589</td>\n",
       "            <td>(41.72530099, -87.584965887)</td>\n",
       "        </tr>\n",
       "    </tbody>\n",
       "</table>"
      ],
      "text/plain": [
       "[(514, 3987219, 'HL266884', '2005-03-31', '024XX N CLARK ST', '2210', 'LIQUOR LAW VIOLATION', 'SELL/GIVE/DEL LIQUOR TO MINOR', 'CONVENIENCE STORE', 1, 0, 2333, 19, 43.0, 7.0, '22', 1172680.0, 1916483.0, 2005, 41.92626872, -87.64089934, '(41.926268719, -87.640899336)'),\n",
       " (515, 3266814, 'HK238408', '2004-03-13', '093XX S STONY ISLAND AVE', '2230', 'LIQUOR LAW VIOLATION', 'ILLEGAL CONSUMPTION BY MINOR', 'ALLEY', 1, 0, 413, 4, 8.0, 48.0, '22', 1188539.0, 1843379.0, 2004, 41.72530099, -87.58496589, '(41.72530099, -87.584965887)')]"
      ]
     },
     "execution_count": 40,
     "metadata": {},
     "output_type": "execute_result"
    }
   ],
   "source": [
    "%%sql\n",
    "SELECT * from crime \n",
    "    WHERE DESCRIPTION like \"%minor%\""
   ]
  },
  {
   "cell_type": "markdown",
   "metadata": {},
   "source": [
    "### Problem 4\n",
    "\n",
    "##### List all kidnapping crimes involving a child?\n"
   ]
  },
  {
   "cell_type": "code",
   "execution_count": 43,
   "metadata": {
    "tags": []
   },
   "outputs": [
    {
     "name": "stdout",
     "output_type": "stream",
     "text": [
      " * sqlite:///FinalDB.db\n",
      "Done.\n"
     ]
    },
    {
     "data": {
      "text/html": [
       "<table>\n",
       "    <thead>\n",
       "        <tr>\n",
       "            <th>index</th>\n",
       "            <th>ID</th>\n",
       "            <th>CASE_NUMBER</th>\n",
       "            <th>DATE</th>\n",
       "            <th>BLOCK</th>\n",
       "            <th>IUCR</th>\n",
       "            <th>PRIMARY_TYPE</th>\n",
       "            <th>DESCRIPTION</th>\n",
       "            <th>LOCATION_DESCRIPTION</th>\n",
       "            <th>ARREST</th>\n",
       "            <th>DOMESTIC</th>\n",
       "            <th>BEAT</th>\n",
       "            <th>DISTRICT</th>\n",
       "            <th>WARD</th>\n",
       "            <th>COMMUNITY_AREA_NUMBER</th>\n",
       "            <th>FBICODE</th>\n",
       "            <th>X_COORDINATE</th>\n",
       "            <th>Y_COORDINATE</th>\n",
       "            <th>YEAR</th>\n",
       "            <th>LATITUDE</th>\n",
       "            <th>LONGITUDE</th>\n",
       "            <th>LOCATION</th>\n",
       "        </tr>\n",
       "    </thead>\n",
       "    <tbody>\n",
       "        <tr>\n",
       "            <td>520</td>\n",
       "            <td>5276766</td>\n",
       "            <td>HN144152</td>\n",
       "            <td>2007-01-26</td>\n",
       "            <td>050XX W VAN BUREN ST</td>\n",
       "            <td>1792</td>\n",
       "            <td>KIDNAPPING</td>\n",
       "            <td>CHILD ABDUCTION/STRANGER</td>\n",
       "            <td>STREET</td>\n",
       "            <td>0</td>\n",
       "            <td>0</td>\n",
       "            <td>1533</td>\n",
       "            <td>15</td>\n",
       "            <td>29.0</td>\n",
       "            <td>25.0</td>\n",
       "            <td>20</td>\n",
       "            <td>1143050.0</td>\n",
       "            <td>1897546.0</td>\n",
       "            <td>2007</td>\n",
       "            <td>41.87490841</td>\n",
       "            <td>-87.75024931</td>\n",
       "            <td>(41.874908413, -87.750249307)</td>\n",
       "        </tr>\n",
       "    </tbody>\n",
       "</table>"
      ],
      "text/plain": [
       "[(520, 5276766, 'HN144152', '2007-01-26', '050XX W VAN BUREN ST', '1792', 'KIDNAPPING', 'CHILD ABDUCTION/STRANGER', 'STREET', 0, 0, 1533, 15, 29.0, 25.0, '20', 1143050.0, 1897546.0, 2007, 41.87490841, -87.75024931, '(41.874908413, -87.750249307)')]"
      ]
     },
     "execution_count": 43,
     "metadata": {},
     "output_type": "execute_result"
    }
   ],
   "source": [
    "%%sql\n",
    "SELECT * from crime \n",
    "    WHERE PRIMARY_TYPE like \"%kidnapping%\"\n",
    "    AND DESCRIPTION like \"%child%\""
   ]
  },
  {
   "cell_type": "markdown",
   "metadata": {},
   "source": [
    "### Problem 5\n",
    "\n",
    "##### List the kind of crimes that were recorded at schools. (No repetitions)\n"
   ]
  },
  {
   "cell_type": "code",
   "execution_count": 50,
   "metadata": {
    "tags": []
   },
   "outputs": [
    {
     "name": "stdout",
     "output_type": "stream",
     "text": [
      " * sqlite:///FinalDB.db\n",
      "Done.\n"
     ]
    },
    {
     "data": {
      "text/html": [
       "<table>\n",
       "    <thead>\n",
       "        <tr>\n",
       "            <th>PRIMARY_TYPE</th>\n",
       "        </tr>\n",
       "    </thead>\n",
       "    <tbody>\n",
       "        <tr>\n",
       "            <td>BATTERY</td>\n",
       "        </tr>\n",
       "        <tr>\n",
       "            <td>CRIMINAL DAMAGE</td>\n",
       "        </tr>\n",
       "        <tr>\n",
       "            <td>NARCOTICS</td>\n",
       "        </tr>\n",
       "        <tr>\n",
       "            <td>ASSAULT</td>\n",
       "        </tr>\n",
       "        <tr>\n",
       "            <td>CRIMINAL TRESPASS</td>\n",
       "        </tr>\n",
       "        <tr>\n",
       "            <td>PUBLIC PEACE VIOLATION</td>\n",
       "        </tr>\n",
       "    </tbody>\n",
       "</table>"
      ],
      "text/plain": [
       "[('BATTERY',),\n",
       " ('CRIMINAL DAMAGE',),\n",
       " ('NARCOTICS',),\n",
       " ('ASSAULT',),\n",
       " ('CRIMINAL TRESPASS',),\n",
       " ('PUBLIC PEACE VIOLATION',)]"
      ]
     },
     "execution_count": 50,
     "metadata": {},
     "output_type": "execute_result"
    }
   ],
   "source": [
    "%%sql\n",
    "SELECT DISTINCT PRIMARY_TYPE from crime \n",
    "    WHERE LOCATION_DESCRIPTION like \"%school%\"\n",
    "    -- AND DESCRIPTION like \"%child%\""
   ]
  },
  {
   "cell_type": "markdown",
   "metadata": {},
   "source": [
    "### Problem 6\n",
    "\n",
    "##### List the type of schools along with the average safety score for each type.\n"
   ]
  },
  {
   "cell_type": "code",
   "execution_count": 58,
   "metadata": {
    "tags": []
   },
   "outputs": [
    {
     "name": "stdout",
     "output_type": "stream",
     "text": [
      " * sqlite:///FinalDB.db\n",
      "Done.\n"
     ]
    },
    {
     "data": {
      "text/html": [
       "<table>\n",
       "    <thead>\n",
       "        <tr>\n",
       "            <th>index</th>\n",
       "            <th>School_ID</th>\n",
       "            <th>NAME_OF_SCHOOL</th>\n",
       "            <th>Type</th>\n",
       "            <th>Street_Address</th>\n",
       "            <th>City</th>\n",
       "            <th>State</th>\n",
       "            <th>ZIP_Code</th>\n",
       "            <th>Phone_Number</th>\n",
       "            <th>Link</th>\n",
       "            <th>Network_Manager</th>\n",
       "            <th>Collaborative_Name</th>\n",
       "            <th>Adequate_Yearly_Progress_Made_</th>\n",
       "            <th>Track_Schedule</th>\n",
       "            <th>CPS_Performance_Policy_Status</th>\n",
       "            <th>CPS_Performance_Policy_Level</th>\n",
       "            <th>HEALTHY_SCHOOL_CERTIFIED</th>\n",
       "            <th>Safety_Icon</th>\n",
       "            <th>SAFETY_SCORE</th>\n",
       "            <th>Family_Involvement_Icon</th>\n",
       "            <th>Family_Involvement_Score</th>\n",
       "            <th>Environment_Icon</th>\n",
       "            <th>Environment_Score</th>\n",
       "            <th>Instruction_Icon</th>\n",
       "            <th>Instruction_Score</th>\n",
       "            <th>Leaders_Icon</th>\n",
       "            <th>Leaders_Score</th>\n",
       "            <th>Teachers_Icon</th>\n",
       "            <th>Teachers_Score</th>\n",
       "            <th>Parent_Engagement_Icon</th>\n",
       "            <th>Parent_Engagement_Score</th>\n",
       "            <th>Parent_Environment_Icon</th>\n",
       "            <th>Parent_Environment_Score</th>\n",
       "            <th>AVERAGE_STUDENT_ATTENDANCE</th>\n",
       "            <th>Rate_of_Misconducts__per_100_students_</th>\n",
       "            <th>Average_Teacher_Attendance</th>\n",
       "            <th>Individualized_Education_Program_Compliance_Rate</th>\n",
       "            <th>Pk_2_Literacy__</th>\n",
       "            <th>Pk_2_Math__</th>\n",
       "            <th>Gr3_5_Grade_Level_Math__</th>\n",
       "            <th>Gr3_5_Grade_Level_Read__</th>\n",
       "            <th>Gr3_5_Keep_Pace_Read__</th>\n",
       "            <th>Gr3_5_Keep_Pace_Math__</th>\n",
       "            <th>Gr6_8_Grade_Level_Math__</th>\n",
       "            <th>Gr6_8_Grade_Level_Read__</th>\n",
       "            <th>Gr6_8_Keep_Pace_Math_</th>\n",
       "            <th>Gr6_8_Keep_Pace_Read__</th>\n",
       "            <th>Gr_8_Explore_Math__</th>\n",
       "            <th>Gr_8_Explore_Read__</th>\n",
       "            <th>ISAT_Exceeding_Math__</th>\n",
       "            <th>ISAT_Exceeding_Reading__</th>\n",
       "            <th>ISAT_Value_Add_Math</th>\n",
       "            <th>ISAT_Value_Add_Read</th>\n",
       "            <th>ISAT_Value_Add_Color_Math</th>\n",
       "            <th>ISAT_Value_Add_Color_Read</th>\n",
       "            <th>Students_Taking__Algebra__</th>\n",
       "            <th>Students_Passing__Algebra__</th>\n",
       "            <th>9th Grade EXPLORE (2009)</th>\n",
       "            <th>9th Grade EXPLORE (2010)</th>\n",
       "            <th>10th Grade PLAN (2009)</th>\n",
       "            <th>10th Grade PLAN (2010)</th>\n",
       "            <th>Net_Change_EXPLORE_and_PLAN</th>\n",
       "            <th>11th Grade Average ACT (2011)</th>\n",
       "            <th>Net_Change_PLAN_and_ACT</th>\n",
       "            <th>College_Eligibility__</th>\n",
       "            <th>Graduation_Rate__</th>\n",
       "            <th>College_Enrollment_Rate__</th>\n",
       "            <th>COLLEGE_ENROLLMENT</th>\n",
       "            <th>General_Services_Route</th>\n",
       "            <th>Freshman_on_Track_Rate__</th>\n",
       "            <th>X_COORDINATE</th>\n",
       "            <th>Y_COORDINATE</th>\n",
       "            <th>Latitude</th>\n",
       "            <th>Longitude</th>\n",
       "            <th>COMMUNITY_AREA_NUMBER</th>\n",
       "            <th>COMMUNITY_AREA_NAME</th>\n",
       "            <th>Ward</th>\n",
       "            <th>Police_District</th>\n",
       "            <th>Location</th>\n",
       "        </tr>\n",
       "    </thead>\n",
       "    <tbody>\n",
       "        <tr>\n",
       "            <td>0</td>\n",
       "            <td>610038</td>\n",
       "            <td>Abraham Lincoln Elementary School</td>\n",
       "            <td>ES</td>\n",
       "            <td>615 W Kemper Pl</td>\n",
       "            <td>Chicago</td>\n",
       "            <td>IL</td>\n",
       "            <td>60614</td>\n",
       "            <td>(773) 534-5720</td>\n",
       "            <td>http://schoolreports.cps.edu/SchoolProgressReport_Eng/Spring2011Eng_610038.pdf</td>\n",
       "            <td>Fullerton Elementary Network</td>\n",
       "            <td>NORTH-NORTHWEST SIDE COLLABORATIVE</td>\n",
       "            <td>No</td>\n",
       "            <td>Standard</td>\n",
       "            <td>Not on Probation</td>\n",
       "            <td>Level 1</td>\n",
       "            <td>Yes</td>\n",
       "            <td>Very Strong</td>\n",
       "            <td>99.0</td>\n",
       "            <td>Very Strong</td>\n",
       "            <td>99</td>\n",
       "            <td>Strong</td>\n",
       "            <td>74.0</td>\n",
       "            <td>Strong</td>\n",
       "            <td>66.0</td>\n",
       "            <td>Weak</td>\n",
       "            <td>65</td>\n",
       "            <td>Strong</td>\n",
       "            <td>70</td>\n",
       "            <td>Strong</td>\n",
       "            <td>56</td>\n",
       "            <td>Average</td>\n",
       "            <td>47</td>\n",
       "            <td>96.00%</td>\n",
       "            <td>2.0</td>\n",
       "            <td>96.40%</td>\n",
       "            <td>95.80%</td>\n",
       "            <td>80.1</td>\n",
       "            <td>43.3</td>\n",
       "            <td>89.6</td>\n",
       "            <td>84.9</td>\n",
       "            <td>60.7</td>\n",
       "            <td>62.6</td>\n",
       "            <td>81.9</td>\n",
       "            <td>85.2</td>\n",
       "            <td>52</td>\n",
       "            <td>62.4</td>\n",
       "            <td>66.3</td>\n",
       "            <td>77.9</td>\n",
       "            <td>69.7</td>\n",
       "            <td>64.4</td>\n",
       "            <td>0.2</td>\n",
       "            <td>0.9</td>\n",
       "            <td>Yellow</td>\n",
       "            <td>Green</td>\n",
       "            <td>67.1</td>\n",
       "            <td>54.5</td>\n",
       "            <td>NDA</td>\n",
       "            <td>NDA</td>\n",
       "            <td>NDA</td>\n",
       "            <td>NDA</td>\n",
       "            <td>NDA</td>\n",
       "            <td>NDA</td>\n",
       "            <td>NDA</td>\n",
       "            <td>NDA</td>\n",
       "            <td>NDA</td>\n",
       "            <td>NDA</td>\n",
       "            <td>813</td>\n",
       "            <td>33</td>\n",
       "            <td>NDA</td>\n",
       "            <td>1171699.458</td>\n",
       "            <td>1915829.428</td>\n",
       "            <td>41.92449696</td>\n",
       "            <td>-87.64452163</td>\n",
       "            <td>7</td>\n",
       "            <td>LINCOLN PARK</td>\n",
       "            <td>43</td>\n",
       "            <td>18</td>\n",
       "            <td>(41.92449696, -87.64452163)</td>\n",
       "        </tr>\n",
       "    </tbody>\n",
       "</table>"
      ],
      "text/plain": [
       "[(0, 610038, 'Abraham Lincoln Elementary School', 'ES', '615 W Kemper Pl', 'Chicago', 'IL', 60614, '(773) 534-5720', 'http://schoolreports.cps.edu/SchoolProgressReport_Eng/Spring2011Eng_610038.pdf', 'Fullerton Elementary Network', 'NORTH-NORTHWEST SIDE COLLABORATIVE', 'No', 'Standard', 'Not on Probation', 'Level 1', 'Yes', 'Very Strong', 99.0, 'Very Strong', '99', 'Strong', 74.0, 'Strong', 66.0, 'Weak', '65', 'Strong', '70', 'Strong', '56', 'Average', '47', '96.00%', 2.0, '96.40%', '95.80%', '80.1', '43.3', '89.6', '84.9', '60.7', '62.6', '81.9', '85.2', '52', '62.4', '66.3', '77.9', 69.7, 64.4, 0.2, 0.9, 'Yellow', 'Green', '67.1', '54.5', 'NDA', 'NDA', 'NDA', 'NDA', 'NDA', 'NDA', 'NDA', 'NDA', 'NDA', 'NDA', 813, 33, 'NDA', 1171699.458, 1915829.428, 41.92449696, -87.64452163, 7, 'LINCOLN PARK', 43, 18, '(41.92449696, -87.64452163)')]"
      ]
     },
     "execution_count": 58,
     "metadata": {},
     "output_type": "execute_result"
    }
   ],
   "source": [
    "%%sql\n",
    "SELECT * from school limit 1"
   ]
  },
  {
   "cell_type": "code",
   "execution_count": 62,
   "metadata": {
    "tags": []
   },
   "outputs": [
    {
     "name": "stdout",
     "output_type": "stream",
     "text": [
      " * sqlite:///FinalDB.db\n",
      "Done.\n"
     ]
    },
    {
     "data": {
      "text/html": [
       "<table>\n",
       "    <thead>\n",
       "        <tr>\n",
       "            <th>Type</th>\n",
       "            <th>AVG(SAFETY_SCORE)</th>\n",
       "        </tr>\n",
       "    </thead>\n",
       "    <tbody>\n",
       "        <tr>\n",
       "            <td>ES</td>\n",
       "            <td>49.52038369304557</td>\n",
       "        </tr>\n",
       "        <tr>\n",
       "            <td>HS</td>\n",
       "            <td>49.62352941176471</td>\n",
       "        </tr>\n",
       "        <tr>\n",
       "            <td>MS</td>\n",
       "            <td>48.0</td>\n",
       "        </tr>\n",
       "    </tbody>\n",
       "</table>"
      ],
      "text/plain": [
       "[('ES', 49.52038369304557), ('HS', 49.62352941176471), ('MS', 48.0)]"
      ]
     },
     "execution_count": 62,
     "metadata": {},
     "output_type": "execute_result"
    }
   ],
   "source": [
    "%%sql\n",
    "SELECT Type,AVG(SAFETY_SCORE) from school\n",
    "    GROUP BY Type\n"
   ]
  },
  {
   "cell_type": "markdown",
   "metadata": {},
   "source": [
    "### Problem 7\n",
    "\n",
    "##### List 5 community areas with highest % of households below poverty line\n"
   ]
  },
  {
   "cell_type": "code",
   "execution_count": 63,
   "metadata": {
    "tags": []
   },
   "outputs": [
    {
     "name": "stdout",
     "output_type": "stream",
     "text": [
      " * sqlite:///FinalDB.db\n",
      "Done.\n"
     ]
    },
    {
     "data": {
      "text/html": [
       "<table>\n",
       "    <thead>\n",
       "        <tr>\n",
       "            <th>index</th>\n",
       "            <th>COMMUNITY_AREA_NUMBER</th>\n",
       "            <th>COMMUNITY_AREA_NAME</th>\n",
       "            <th>PERCENT_OF_HOUSING_CROWDED</th>\n",
       "            <th>PERCENT_HOUSEHOLDS_BELOW_POVERTY</th>\n",
       "            <th>PERCENT_AGED_16__UNEMPLOYED</th>\n",
       "            <th>PERCENT_AGED_25__WITHOUT_HIGH_SCHOOL_DIPLOMA</th>\n",
       "            <th>PERCENT_AGED_UNDER_18_OR_OVER_64</th>\n",
       "            <th>PER_CAPITA_INCOME</th>\n",
       "            <th>HARDSHIP_INDEX</th>\n",
       "        </tr>\n",
       "    </thead>\n",
       "    <tbody>\n",
       "        <tr>\n",
       "            <td>0</td>\n",
       "            <td>1.0</td>\n",
       "            <td>Rogers Park</td>\n",
       "            <td>7.7</td>\n",
       "            <td>23.6</td>\n",
       "            <td>8.7</td>\n",
       "            <td>18.2</td>\n",
       "            <td>27.5</td>\n",
       "            <td>23939</td>\n",
       "            <td>39.0</td>\n",
       "        </tr>\n",
       "    </tbody>\n",
       "</table>"
      ],
      "text/plain": [
       "[(0, 1.0, 'Rogers Park', 7.7, 23.6, 8.7, 18.2, 27.5, 23939, 39.0)]"
      ]
     },
     "execution_count": 63,
     "metadata": {},
     "output_type": "execute_result"
    }
   ],
   "source": [
    "%%sql\n",
    "SELECT * from census limit 1"
   ]
  },
  {
   "cell_type": "code",
   "execution_count": 7,
   "metadata": {
    "tags": []
   },
   "outputs": [
    {
     "name": "stdout",
     "output_type": "stream",
     "text": [
      " * sqlite:///FinalDB.db\n",
      "Done.\n"
     ]
    },
    {
     "data": {
      "text/html": [
       "<table>\n",
       "    <thead>\n",
       "        <tr>\n",
       "            <th>index</th>\n",
       "            <th>COMMUNITY_AREA_NUMBER</th>\n",
       "            <th>COMMUNITY_AREA_NAME</th>\n",
       "            <th>PERCENT_OF_HOUSING_CROWDED</th>\n",
       "            <th>PERCENT_HOUSEHOLDS_BELOW_POVERTY</th>\n",
       "            <th>PERCENT_AGED_16__UNEMPLOYED</th>\n",
       "            <th>PERCENT_AGED_25__WITHOUT_HIGH_SCHOOL_DIPLOMA</th>\n",
       "            <th>PERCENT_AGED_UNDER_18_OR_OVER_64</th>\n",
       "            <th>PER_CAPITA_INCOME</th>\n",
       "            <th>HARDSHIP_INDEX</th>\n",
       "        </tr>\n",
       "    </thead>\n",
       "    <tbody>\n",
       "        <tr>\n",
       "            <td>53</td>\n",
       "            <td>54.0</td>\n",
       "            <td>Riverdale</td>\n",
       "            <td>5.8</td>\n",
       "            <td>56.5</td>\n",
       "            <td>34.6</td>\n",
       "            <td>27.5</td>\n",
       "            <td>51.5</td>\n",
       "            <td>8201</td>\n",
       "            <td>98.0</td>\n",
       "        </tr>\n",
       "        <tr>\n",
       "            <td>36</td>\n",
       "            <td>37.0</td>\n",
       "            <td>Fuller Park</td>\n",
       "            <td>3.2</td>\n",
       "            <td>51.2</td>\n",
       "            <td>33.9</td>\n",
       "            <td>26.6</td>\n",
       "            <td>44.9</td>\n",
       "            <td>10432</td>\n",
       "            <td>97.0</td>\n",
       "        </tr>\n",
       "        <tr>\n",
       "            <td>67</td>\n",
       "            <td>68.0</td>\n",
       "            <td>Englewood</td>\n",
       "            <td>3.8</td>\n",
       "            <td>46.6</td>\n",
       "            <td>28.0</td>\n",
       "            <td>28.5</td>\n",
       "            <td>42.5</td>\n",
       "            <td>11888</td>\n",
       "            <td>94.0</td>\n",
       "        </tr>\n",
       "        <tr>\n",
       "            <td>28</td>\n",
       "            <td>29.0</td>\n",
       "            <td>North Lawndale</td>\n",
       "            <td>7.4</td>\n",
       "            <td>43.1</td>\n",
       "            <td>21.2</td>\n",
       "            <td>27.6</td>\n",
       "            <td>42.7</td>\n",
       "            <td>12034</td>\n",
       "            <td>87.0</td>\n",
       "        </tr>\n",
       "        <tr>\n",
       "            <td>26</td>\n",
       "            <td>27.0</td>\n",
       "            <td>East Garfield Park</td>\n",
       "            <td>8.2</td>\n",
       "            <td>42.4</td>\n",
       "            <td>19.6</td>\n",
       "            <td>21.3</td>\n",
       "            <td>43.2</td>\n",
       "            <td>12961</td>\n",
       "            <td>83.0</td>\n",
       "        </tr>\n",
       "    </tbody>\n",
       "</table>"
      ],
      "text/plain": [
       "[(53, 54.0, 'Riverdale', 5.8, 56.5, 34.6, 27.5, 51.5, 8201, 98.0),\n",
       " (36, 37.0, 'Fuller Park', 3.2, 51.2, 33.9, 26.6, 44.9, 10432, 97.0),\n",
       " (67, 68.0, 'Englewood', 3.8, 46.6, 28.0, 28.5, 42.5, 11888, 94.0),\n",
       " (28, 29.0, 'North Lawndale', 7.4, 43.1, 21.2, 27.6, 42.7, 12034, 87.0),\n",
       " (26, 27.0, 'East Garfield Park', 8.2, 42.4, 19.6, 21.3, 43.2, 12961, 83.0)]"
      ]
     },
     "execution_count": 7,
     "metadata": {},
     "output_type": "execute_result"
    }
   ],
   "source": [
    "%%sql\n",
    "SELECT * from census \n",
    "    ORDER BY PERCENT_HOUSEHOLDS_BELOW_POVERTY DESC limit 5"
   ]
  },
  {
   "cell_type": "markdown",
   "metadata": {},
   "source": [
    "### Problem 8\n",
    "\n",
    "##### Which community area is most crime prone? Display the coumminty area number only.\n"
   ]
  },
  {
   "cell_type": "code",
   "execution_count": 10,
   "metadata": {
    "tags": []
   },
   "outputs": [
    {
     "name": "stdout",
     "output_type": "stream",
     "text": [
      " * sqlite:///FinalDB.db\n",
      "Done.\n"
     ]
    },
    {
     "data": {
      "text/html": [
       "<table>\n",
       "    <thead>\n",
       "        <tr>\n",
       "            <th>COMMUNITY_AREA_NUMBER</th>\n",
       "            <th>COMMUNITY_AREA_NAME</th>\n",
       "        </tr>\n",
       "    </thead>\n",
       "    <tbody>\n",
       "        <tr>\n",
       "            <td>25.0</td>\n",
       "            <td>Austin</td>\n",
       "        </tr>\n",
       "    </tbody>\n",
       "</table>"
      ],
      "text/plain": [
       "[(25.0, 'Austin')]"
      ]
     },
     "execution_count": 10,
     "metadata": {},
     "output_type": "execute_result"
    }
   ],
   "source": [
    "%%sql\n",
    "SELECT COMMUNITY_AREA_NUMBER,\n",
    "    COMMUNITY_AREA_NAME\n",
    "    from census\n",
    "    WHERE COMMUNITY_AREA_NUMBER = (\n",
    "        SELECT COMMUNITY_AREA_NUMBER\n",
    "        from crime\n",
    "        GROUP BY COMMUNITY_AREA_NUMBER\n",
    "        ORDER BY COUNT(ID) DESC\n",
    "        LIMIT 1\n",
    "        )"
   ]
  },
  {
   "cell_type": "code",
   "execution_count": null,
   "metadata": {},
   "outputs": [],
   "source": [
    "%%sql\n",
    "SELECT * from crime \n",
    "    WHERE DESCRIPTION like \"%minor%\""
   ]
  },
  {
   "cell_type": "markdown",
   "metadata": {},
   "source": [
    "\n",
    "Double-click **here** for a hint\n",
    "\n",
    "<!--\n",
    "Query for the 'community area number' that has most number of incidents\n",
    "-->\n"
   ]
  },
  {
   "cell_type": "markdown",
   "metadata": {},
   "source": [
    "### Problem 9\n",
    "\n",
    "##### Use a sub-query to find the name of the community area with highest hardship index\n"
   ]
  },
  {
   "cell_type": "code",
   "execution_count": 20,
   "metadata": {
    "tags": []
   },
   "outputs": [
    {
     "name": "stdout",
     "output_type": "stream",
     "text": [
      " * sqlite:///FinalDB.db\n",
      "Done.\n"
     ]
    },
    {
     "data": {
      "text/html": [
       "<table>\n",
       "    <thead>\n",
       "        <tr>\n",
       "            <th>COMMUNITY_AREA_NUMBER</th>\n",
       "            <th>COMMUNITY_AREA_NAME</th>\n",
       "        </tr>\n",
       "    </thead>\n",
       "    <tbody>\n",
       "        <tr>\n",
       "            <td>30.0</td>\n",
       "            <td>South Lawndale</td>\n",
       "        </tr>\n",
       "        <tr>\n",
       "            <td>37.0</td>\n",
       "            <td>Fuller Park</td>\n",
       "        </tr>\n",
       "        <tr>\n",
       "            <td>54.0</td>\n",
       "            <td>Riverdale</td>\n",
       "        </tr>\n",
       "        <tr>\n",
       "            <td>63.0</td>\n",
       "            <td>Gage Park</td>\n",
       "        </tr>\n",
       "        <tr>\n",
       "            <td>68.0</td>\n",
       "            <td>Englewood</td>\n",
       "        </tr>\n",
       "    </tbody>\n",
       "</table>"
      ],
      "text/plain": [
       "[(30.0, 'South Lawndale'),\n",
       " (37.0, 'Fuller Park'),\n",
       " (54.0, 'Riverdale'),\n",
       " (63.0, 'Gage Park'),\n",
       " (68.0, 'Englewood')]"
      ]
     },
     "execution_count": 20,
     "metadata": {},
     "output_type": "execute_result"
    }
   ],
   "source": [
    "%%sql\n",
    "SELECT COMMUNITY_AREA_NUMBER,\n",
    "    COMMUNITY_AREA_NAME\n",
    "    from census\n",
    "    WHERE COMMUNITY_AREA_NUMBER in (\n",
    "        SELECT COMMUNITY_AREA_NUMBER\n",
    "        from census\n",
    "        ORDER BY HARDSHIP_INDEX DESC\n",
    "        LIMIT 5\n",
    "        )"
   ]
  },
  {
   "cell_type": "markdown",
   "metadata": {},
   "source": [
    "### Problem 10\n",
    "\n",
    "##### Use a sub-query to determine the Community Area Name with most number of crimes?\n"
   ]
  },
  {
   "cell_type": "code",
   "execution_count": 18,
   "metadata": {
    "tags": []
   },
   "outputs": [
    {
     "name": "stdout",
     "output_type": "stream",
     "text": [
      " * sqlite:///FinalDB.db\n",
      "Done.\n"
     ]
    },
    {
     "data": {
      "text/html": [
       "<table>\n",
       "    <thead>\n",
       "        <tr>\n",
       "            <th>COMMUNITY_AREA_NUMBER</th>\n",
       "            <th>COMMUNITY_AREA_NAME</th>\n",
       "        </tr>\n",
       "    </thead>\n",
       "    <tbody>\n",
       "        <tr>\n",
       "            <td>23.0</td>\n",
       "            <td>Humboldt park</td>\n",
       "        </tr>\n",
       "        <tr>\n",
       "            <td>25.0</td>\n",
       "            <td>Austin</td>\n",
       "        </tr>\n",
       "        <tr>\n",
       "            <td>29.0</td>\n",
       "            <td>North Lawndale</td>\n",
       "        </tr>\n",
       "        <tr>\n",
       "            <td>68.0</td>\n",
       "            <td>Englewood</td>\n",
       "        </tr>\n",
       "    </tbody>\n",
       "</table>"
      ],
      "text/plain": [
       "[(23.0, 'Humboldt park'),\n",
       " (25.0, 'Austin'),\n",
       " (29.0, 'North Lawndale'),\n",
       " (68.0, 'Englewood')]"
      ]
     },
     "execution_count": 18,
     "metadata": {},
     "output_type": "execute_result"
    }
   ],
   "source": [
    "%%sql\n",
    "SELECT COMMUNITY_AREA_NUMBER,\n",
    "    COMMUNITY_AREA_NAME\n",
    "    from census\n",
    "    WHERE COMMUNITY_AREA_NUMBER in (\n",
    "        SELECT COMMUNITY_AREA_NUMBER\n",
    "        from crime\n",
    "        GROUP BY COMMUNITY_AREA_NUMBER\n",
    "        ORDER BY COUNT(ID) DESC\n",
    "        LIMIT 5\n",
    "        )"
   ]
  },
  {
   "cell_type": "markdown",
   "metadata": {},
   "source": [
    "## Author(s)\n",
    "\n",
    "<h4> Hima Vasudevan </h4>\n",
    "<h4> Rav Ahuja </h4>\n",
    "<h4> Ramesh Sannreddy </h4>\n",
    "\n",
    "## Contribtuor(s)\n",
    "\n",
    "<h4> Malika Singla </h4>\n",
    "<h4>Abhishek Gagneja</h4>\n",
    "\n",
    "## Change log\n",
    "\n",
    "| Date       | Version | Changed by        | Change Description                             |\n",
    "| ---------- | ------- | ----------------- | ---------------------------------------------- |\n",
    "|2023-10-18  | 2.6     | Abhishek Gagneja  | Modified instruction set |\n",
    "| 2022-03-04 | 2.5     | Lakshmi Holla     | Changed markdown.                   |\n",
    "| 2021-05-19 | 2.4     | Lakshmi Holla     | Updated the question                           |\n",
    "| 2021-04-30 | 2.3     | Malika Singla     | Updated the libraries                          |\n",
    "| 2021-01-15 | 2.2     | Rav Ahuja         | Removed problem 11 and fixed changelog         |\n",
    "| 2020-11-25 | 2.1     | Ramesh Sannareddy | Updated the problem statements, and datasets   |\n",
    "| 2020-09-05 | 2.0     | Malika Singla     | Moved lab to course repo in GitLab             |\n",
    "| 2018-07-18 | 1.0     | Rav Ahuja         | Several updates including loading instructions |\n",
    "| 2018-05-04 | 0.1     | Hima Vasudevan    | Created initial version                        |\n",
    "\n",
    "## <h3 align=\"center\"> © IBM Corporation 2023. All rights reserved. <h3/>\n"
   ]
  }
 ],
 "metadata": {
  "kernelspec": {
   "display_name": "Python",
   "language": "python",
   "name": "conda-env-python-py"
  },
  "language_info": {
   "codemirror_mode": {
    "name": "ipython",
    "version": 3
   },
   "file_extension": ".py",
   "mimetype": "text/x-python",
   "name": "python",
   "nbconvert_exporter": "python",
   "pygments_lexer": "ipython3",
   "version": "3.7.12"
  }
 },
 "nbformat": 4,
 "nbformat_minor": 4
}
