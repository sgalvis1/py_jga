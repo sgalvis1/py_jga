{
 "cells": [
  {
   "cell_type": "code",
   "execution_count": 10,
   "metadata": {},
   "outputs": [
    {
     "name": "stdout",
     "output_type": "stream",
     "text": [
      "1.21.4\n",
      "   C1 C2\n",
      "0   1  A\n",
      "1   2  B\n",
      "2   3  C\n",
      "Using conditions with DF\n",
      "0    False\n",
      "1    False\n",
      "2     True\n",
      "Name: C1, dtype: bool\n",
      "Filtering DF\n",
      "   C1 C2\n",
      "2   3  C\n",
      "Selecting positions by index\n",
      "1\n",
      "selecting position by column label\n",
      "0    A\n",
      "1    B\n",
      "Name: C2, dtype: object\n"
     ]
    },
    {
     "data": {
      "text/plain": [
       "array([[<AxesSubplot:title={'center':'0'}>]], dtype=object)"
      ]
     },
     "execution_count": 10,
     "metadata": {},
     "output_type": "execute_result"
    },
    {
     "data": {
      "image/png": "[encoded data removed]",
      "text/plain": [
       "<Figure size 432x288 with 1 Axes>"
      ]
     },
     "metadata": {
      "needs_background": "light"
     },
     "output_type": "display_data"
    }
   ],
   "source": [
    "import pandas as pd \n",
    "import numpy as np\n",
    "\n",
    "print(np.__version__)\n",
    "dic_1 = {'C1':[1,2,3],'C2':['A','B','C']}\n",
    "df = pd.DataFrame(dic_1)\n",
    "\n",
    "print(df.head())\n",
    "print('Using conditions with DF')\n",
    "print(df['C1']>2)\n",
    "print('Filtering DF')\n",
    "print(df[df['C1']>2])\n",
    "print('Selecting positions by index')\n",
    "print (df.iloc[0,0])\n",
    "print('selecting position by column label')\n",
    "print(df.loc[0:1,'C2'])\n",
    "\n",
    "df = pd.DataFrame([2,5,67,2,3,5,23,124])\n",
    "df.hist()"
   ]
  },
  {
   "cell_type": "code",
   "execution_count": 1,
   "metadata": {},
   "outputs": [
    {
     "name": "stdout",
     "output_type": "stream",
     "text": [
      "[[1 2 3]\n",
      " [4 5 6]\n",
      " [7 8 9]\n",
      " [0 0 0]]\n",
      "Indexing data : \n",
      " \n",
      "2\n",
      "2\n",
      "[[2 1]\n",
      " [1 2]]\n"
     ]
    }
   ],
   "source": [
    "# Working with np arrays\n",
    "\n",
    "import numpy as np\n",
    "\n",
    "\n",
    "data = np.array([[1,2,3],[4,5,6],[7,8,9],[0,0,0]])\n",
    "\n",
    "print(data)\n",
    "\n",
    "print('Indexing data : \\n ')\n",
    "print(data[0, 1])\n",
    "\n",
    "x=np.random.randint(100, size=(10,10))\n",
    "print(x.ndim)\n",
    "\n",
    "\n",
    "X=np.array([[1,0],[0,1]])\n",
    "Y=np.array([[2,1],[1,2]]) \n",
    " \n",
    "print(np.dot(X,Y))"
   ]
  },
  {
   "cell_type": "code",
   "execution_count": 10,
   "metadata": {},
   "outputs": [
    {
     "name": "stdout",
     "output_type": "stream",
     "text": [
      "dict_keys(['prices', 'market_caps', 'total_volumes', 'a'])\n",
      "         TimeStamp         Price        Date\n",
      "0    1661414470659  21744.653715  2022-08-25\n",
      "1    1661418244324  21704.112966  2022-08-25\n",
      "2    1661421941242  21717.618288  2022-08-25\n",
      "3    1661425631928  21679.671949  2022-08-25\n",
      "4    1661428995296  21699.550476  2022-08-25\n",
      "..             ...           ...         ...\n",
      "716  1663992189824  19068.742869  2022-09-24\n",
      "717  1663995640839  19143.382545  2022-09-24\n",
      "718  1663999264956  19127.294843  2022-09-24\n",
      "719  1664002832020  19094.034603  2022-09-24\n",
      "720  1664003392000  19092.291693  2022-09-24\n",
      "\n",
      "[721 rows x 3 columns]\n"
     ]
    }
   ],
   "source": [
    "\n",
    "from pycoingecko import CoinGeckoAPI\n",
    "import numpy as np\n",
    "import pandas as pd\n",
    "import matplotlib.pyplot as mp\n",
    "import datetime\n",
    "\n",
    "cg = CoinGeckoAPI()\n",
    "bitcoin_data = cg.get_coin_market_chart_by_id(id='bitcoin',vs_currency='usd',days=30)\n",
    "bitcoin_price_data = bitcoin_data['prices']\n",
    "\n",
    "\n",
    "bitcoin_data['a'] = list(a['Position'])\n",
    "print(bitcoin_data.keys())\n",
    "# print(bitcoin_data.values())\n",
    "\n",
    "data_f = pd.DataFrame(bitcoin_price_data,columns=['TimeStamp','Price'])\n",
    "data_f['Date'] = data_f['TimeStamp'].apply(lambda d: datetime.date.fromtimestamp(d/1000.0))\n",
    "\n",
    "print(data_f)\n",
    "\n",
    "# data_f.head(10)\n",
    "\n",
    "\n",
    "   "
   ]
  },
  {
   "cell_type": "code",
   "execution_count": null,
   "metadata": {},
   "outputs": [],
   "source": []
  }
 ],
 "metadata": {
  "kernelspec": {
   "display_name": "Python 3.9.0 64-bit",
   "language": "python",
   "name": "python3"
  },
  "language_info": {
   "codemirror_mode": {
    "name": "ipython",
    "version": 3
   },
   "file_extension": ".py",
   "mimetype": "text/x-python",
   "name": "python",
   "nbconvert_exporter": "python",
   "pygments_lexer": "ipython3",
   "version": "3.9.0"
  },
  "orig_nbformat": 4,
  "vscode": {
   "interpreter": {
    "hash": "81794d4967e6c3204c66dcd87b604927b115b27c00565d3d43f05ba2f3a2cb0d"
   }
  }
 },
 "nbformat": 4,
 "nbformat_minor": 2
}
