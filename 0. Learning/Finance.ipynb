{
 "cells": [
  {
   "cell_type": "markdown",
   "metadata": {},
   "source": [
    "# Present value PVIFA"
   ]
  },
  {
   "cell_type": "code",
   "execution_count": 1,
   "metadata": {},
   "outputs": [
    {
     "name": "stdout",
     "output_type": "stream",
     "text": [
      "PV :  0.5\n"
     ]
    }
   ],
   "source": [
    "C = 1000 \n",
    "R = 0.08\n",
    "N = 2 \n",
    "C = input(\"Compound: \")\n",
    "R = input(\"Rate: \")\n",
    "N = input(\"Periodes: \")\n",
    "\n",
    "C = float(C) \n",
    "R = float(R)\n",
    "N = float(N)\n",
    "\n",
    "A = 1/(1+R)**N\n",
    "\n",
    "PV  = (C/R)*(1 - A)\n",
    "\n",
    "print(\"PV : \", PV)"
   ]
  },
  {
   "cell_type": "code",
   "execution_count": 2,
   "metadata": {},
   "outputs": [
    {
     "name": "stdout",
     "output_type": "stream",
     "text": [
      "PV :  2441790.710050838\n"
     ]
    }
   ],
   "source": [
    "# C = float (input(\"Compound: \"))\n",
    "R = float(input(\"Rate: \"))/100\n",
    "N = float (input(\"Periodes: \"))\n",
    "t = float(input(\"Years: \"))\n",
    "m = int(input(\"1.FV | 2. PV\"))\n",
    "RN = (1+(R/N))**(N*t)\n",
    "\n",
    "if m==1:\n",
    "    PV = float(input(\"PV: \"))\n",
    "    FV = PV*RN\n",
    "    print(\"PV : \", FV)\n",
    "\n",
    "# Present value\n",
    "if m==2:\n",
    "    FV = float(input(\"FV: \"))\n",
    "    PV = FV/RN\n",
    "    print(\"PV : \", PV)"
   ]
  },
  {
   "cell_type": "markdown",
   "metadata": {},
   "source": [
    "# EAR"
   ]
  },
  {
   "cell_type": "code",
   "execution_count": 47,
   "metadata": {},
   "outputs": [
    {
     "name": "stdout",
     "output_type": "stream",
     "text": [
      "5.841060678411658\n"
     ]
    }
   ],
   "source": [
    "# Exercice page 94\n",
    "EAR = 0.06\n",
    "K = 12 \n",
    "\n",
    "A = (1 + EAR)**(1/K)\n",
    "\n",
    "APR = (A*K)-K \n",
    "print(APR*100)"
   ]
  },
  {
   "cell_type": "code",
   "execution_count": 48,
   "metadata": {},
   "outputs": [
    {
     "data": {
      "text/plain": [
       "0.48675505653430484"
      ]
     },
     "execution_count": 48,
     "metadata": {},
     "output_type": "execute_result"
    }
   ],
   "source": [
    "5.841060678411658/12"
   ]
  },
  {
   "cell_type": "code",
   "execution_count": null,
   "metadata": {},
   "outputs": [],
   "source": []
  }
 ],
 "metadata": {
  "kernelspec": {
   "display_name": "Python 3.9.0 64-bit",
   "language": "python",
   "name": "python3"
  },
  "language_info": {
   "codemirror_mode": {
    "name": "ipython",
    "version": 3
   },
   "file_extension": ".py",
   "mimetype": "text/x-python",
   "name": "python",
   "nbconvert_exporter": "python",
   "pygments_lexer": "ipython3",
   "version": "3.9.0"
  },
  "vscode": {
   "interpreter": {
    "hash": "81794d4967e6c3204c66dcd87b604927b115b27c00565d3d43f05ba2f3a2cb0d"
   }
  }
 },
 "nbformat": 4,
 "nbformat_minor": 2
}
